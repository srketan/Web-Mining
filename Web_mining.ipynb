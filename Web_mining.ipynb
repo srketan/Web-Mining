{
  "nbformat": 4,
  "nbformat_minor": 0,
  "metadata": {
    "colab": {
      "name": "Web_mining.ipynb",
      "provenance": [],
      "collapsed_sections": []
    },
    "kernelspec": {
      "name": "python3",
      "display_name": "Python 3"
    }
  },
  "cells": [
    {
      "cell_type": "markdown",
      "metadata": {
        "id": "9JqAcs1AYO9z"
      },
      "source": [
        "Used following URL: http://eecs.qmul.ac.uk/~emmanouilb/income_table.html for web scraping. This webpage includes a table on individuals income and shopping habits.\n",
        "\n",
        "Using Beautiful Soup, scraped the table and converted it into a pandas dataframe. Performed data cleaning when necessary to remove extra characters.  "
      ]
    },
    {
      "cell_type": "code",
      "metadata": {
        "id": "BOToMauvTxNg"
      },
      "source": [
        "import pandas as pd\n",
        "import numpy as np\n",
        "import matplotlib.pyplot as plt\n",
        "import seaborn as sns\n",
        "%matplotlib inline\n",
        "from urllib.request import urlopen\n",
        "from bs4 import BeautifulSoup"
      ],
      "execution_count": null,
      "outputs": []
    },
    {
      "cell_type": "code",
      "metadata": {
        "id": "GH_m5eOyTyWP"
      },
      "source": [
        "url = \"http://eecs.qmul.ac.uk/~emmanouilb/income_table.html\"\n",
        "html = urlopen(url)"
      ],
      "execution_count": null,
      "outputs": []
    },
    {
      "cell_type": "code",
      "metadata": {
        "colab": {
          "base_uri": "https://localhost:8080/"
        },
        "id": "7wvH_4msT-h3",
        "outputId": "ca37d0cb-3b4d-4eba-e8b9-7b745e60b03f"
      },
      "source": [
        "soup = BeautifulSoup(html, 'lxml')\n",
        "print(type(soup))"
      ],
      "execution_count": null,
      "outputs": [
        {
          "output_type": "stream",
          "text": [
            "<class 'bs4.BeautifulSoup'>\n"
          ],
          "name": "stdout"
        }
      ]
    },
    {
      "cell_type": "code",
      "metadata": {
        "id": "_ss0rZ1lUycB"
      },
      "source": [
        "  # the 'tr' tag in html denotes a table row\n",
        "\n",
        "header_list=[]  \n",
        "col_labels=soup.find_all('th') \n",
        "col_str = str(col_labels)\n",
        "cleantext = BeautifulSoup(col_str, \"lxml\").get_text()\n",
        "header_list.append(cleantext)"
      ],
      "execution_count": null,
      "outputs": []
    },
    {
      "cell_type": "code",
      "metadata": {
        "id": "LRK9D_5hbd94"
      },
      "source": [
        "rows = soup.find_all('tr')\n",
        "table_list = []\n",
        "\n",
        "# For every row in the table, find each cell element and add it to the list\n",
        "for row in rows:\n",
        "    row_td = row.find_all('td')\n",
        "    row_cells = str(row_td)\n",
        "    row_cleantext = BeautifulSoup(row_cells, \"lxml\").get_text()  # extract the text without HTML tags\n",
        "    table_list.append(row_cleantext)"
      ],
      "execution_count": null,
      "outputs": []
    },
    {
      "cell_type": "code",
      "metadata": {
        "colab": {
          "base_uri": "https://localhost:8080/",
          "height": 80
        },
        "id": "mgqxQaPNeWO5",
        "outputId": "98b6b475-4a8e-4655-c394-041db909c506"
      },
      "source": [
        "df_header = pd.DataFrame(header_list)\n",
        "#split the '0' column into multiple columns at the comma position using str.split method\n",
        "df_header2 = df_header[0].str.split(',', expand=True)\n",
        "#Remove unnecessary characters \n",
        "df_header2[0] = df_header2[0].str.strip('[')\n",
        "df_header2[3] = df_header2[3].str.strip(']')\n",
        "df_header2.head()"
      ],
      "execution_count": null,
      "outputs": [
        {
          "output_type": "execute_result",
          "data": {
            "text/html": [
              "<div>\n",
              "<style scoped>\n",
              "    .dataframe tbody tr th:only-of-type {\n",
              "        vertical-align: middle;\n",
              "    }\n",
              "\n",
              "    .dataframe tbody tr th {\n",
              "        vertical-align: top;\n",
              "    }\n",
              "\n",
              "    .dataframe thead th {\n",
              "        text-align: right;\n",
              "    }\n",
              "</style>\n",
              "<table border=\"1\" class=\"dataframe\">\n",
              "  <thead>\n",
              "    <tr style=\"text-align: right;\">\n",
              "      <th></th>\n",
              "      <th>0</th>\n",
              "      <th>1</th>\n",
              "      <th>2</th>\n",
              "      <th>3</th>\n",
              "    </tr>\n",
              "  </thead>\n",
              "  <tbody>\n",
              "    <tr>\n",
              "      <th>0</th>\n",
              "      <td>Region</td>\n",
              "      <td>Age</td>\n",
              "      <td>Income</td>\n",
              "      <td>Online Shopper</td>\n",
              "    </tr>\n",
              "  </tbody>\n",
              "</table>\n",
              "</div>"
            ],
            "text/plain": [
              "        0     1        2                3\n",
              "0  Region   Age   Income   Online Shopper"
            ]
          },
          "metadata": {
            "tags": []
          },
          "execution_count": 7
        }
      ]
    },
    {
      "cell_type": "code",
      "metadata": {
        "colab": {
          "base_uri": "https://localhost:8080/",
          "height": 359
        },
        "id": "XCY3UoYweY0G",
        "outputId": "02bfc231-b73e-403c-9a93-0bb3a93bfd9e"
      },
      "source": [
        "df_table = pd.DataFrame(table_list)\n",
        "#split the '0' column into multiple columns at the comma position using str.split method\n",
        "df_table2 = df_table[0].str.split(',', expand=True)\n",
        "# Remove uneccesary characters\n",
        "df_table2[0] = df_table2[0].str.strip('[')\n",
        "df_table2[0] = df_table2[0].str.strip(']')\n",
        "df_table2[3] = df_table2[3].str.strip(']')\n",
        "#Removing the row with missing values\n",
        "df_table3 = df_table2.dropna(axis=0, how='any')\n",
        "\n",
        "df_table3.head(11)"
      ],
      "execution_count": null,
      "outputs": [
        {
          "output_type": "execute_result",
          "data": {
            "text/html": [
              "<div>\n",
              "<style scoped>\n",
              "    .dataframe tbody tr th:only-of-type {\n",
              "        vertical-align: middle;\n",
              "    }\n",
              "\n",
              "    .dataframe tbody tr th {\n",
              "        vertical-align: top;\n",
              "    }\n",
              "\n",
              "    .dataframe thead th {\n",
              "        text-align: right;\n",
              "    }\n",
              "</style>\n",
              "<table border=\"1\" class=\"dataframe\">\n",
              "  <thead>\n",
              "    <tr style=\"text-align: right;\">\n",
              "      <th></th>\n",
              "      <th>0</th>\n",
              "      <th>1</th>\n",
              "      <th>2</th>\n",
              "      <th>3</th>\n",
              "    </tr>\n",
              "  </thead>\n",
              "  <tbody>\n",
              "    <tr>\n",
              "      <th>1</th>\n",
              "      <td>India</td>\n",
              "      <td>49</td>\n",
              "      <td>86400</td>\n",
              "      <td>No</td>\n",
              "    </tr>\n",
              "    <tr>\n",
              "      <th>2</th>\n",
              "      <td>Brazil</td>\n",
              "      <td>32</td>\n",
              "      <td>57600</td>\n",
              "      <td>Yes</td>\n",
              "    </tr>\n",
              "    <tr>\n",
              "      <th>3</th>\n",
              "      <td>USA</td>\n",
              "      <td>35</td>\n",
              "      <td>64800</td>\n",
              "      <td>No</td>\n",
              "    </tr>\n",
              "    <tr>\n",
              "      <th>4</th>\n",
              "      <td>Brazil</td>\n",
              "      <td>43</td>\n",
              "      <td>73200</td>\n",
              "      <td>No</td>\n",
              "    </tr>\n",
              "    <tr>\n",
              "      <th>5</th>\n",
              "      <td>USA</td>\n",
              "      <td>45</td>\n",
              "      <td></td>\n",
              "      <td>Yes</td>\n",
              "    </tr>\n",
              "    <tr>\n",
              "      <th>6</th>\n",
              "      <td>India</td>\n",
              "      <td>40</td>\n",
              "      <td>69600</td>\n",
              "      <td>Yes</td>\n",
              "    </tr>\n",
              "    <tr>\n",
              "      <th>7</th>\n",
              "      <td>Brazil</td>\n",
              "      <td></td>\n",
              "      <td>62400</td>\n",
              "      <td>No</td>\n",
              "    </tr>\n",
              "    <tr>\n",
              "      <th>8</th>\n",
              "      <td>India</td>\n",
              "      <td>53</td>\n",
              "      <td>94800</td>\n",
              "      <td>Yes</td>\n",
              "    </tr>\n",
              "    <tr>\n",
              "      <th>9</th>\n",
              "      <td>USA</td>\n",
              "      <td>55</td>\n",
              "      <td>99600</td>\n",
              "      <td>No</td>\n",
              "    </tr>\n",
              "    <tr>\n",
              "      <th>10</th>\n",
              "      <td>India</td>\n",
              "      <td>42</td>\n",
              "      <td>80400</td>\n",
              "      <td>Yes</td>\n",
              "    </tr>\n",
              "  </tbody>\n",
              "</table>\n",
              "</div>"
            ],
            "text/plain": [
              "         0    1       2     3\n",
              "1    India   49   86400    No\n",
              "2   Brazil   32   57600   Yes\n",
              "3      USA   35   64800    No\n",
              "4   Brazil   43   73200    No\n",
              "5      USA   45           Yes\n",
              "6    India   40   69600   Yes\n",
              "7   Brazil        62400    No\n",
              "8    India   53   94800   Yes\n",
              "9      USA   55   99600    No\n",
              "10   India   42   80400   Yes"
            ]
          },
          "metadata": {
            "tags": []
          },
          "execution_count": 25
        }
      ]
    },
    {
      "cell_type": "code",
      "metadata": {
        "colab": {
          "base_uri": "https://localhost:8080/",
          "height": 359
        },
        "id": "7se9espueoAR",
        "outputId": "8b2b82b0-230a-4294-ab9e-e98b73b543e6"
      },
      "source": [
        "#Concatenate two dataframes\n",
        "frames = [df_header2, df_table2]\n",
        "df = pd.concat(frames)\n",
        "\n",
        "df2 = df.rename(columns=df.iloc[0]) # We assign the first row to be the dataframe header\n",
        "df_table3 = df2.drop(df2.index[0])\n",
        "df_table3.head(10)"
      ],
      "execution_count": null,
      "outputs": [
        {
          "output_type": "execute_result",
          "data": {
            "text/html": [
              "<div>\n",
              "<style scoped>\n",
              "    .dataframe tbody tr th:only-of-type {\n",
              "        vertical-align: middle;\n",
              "    }\n",
              "\n",
              "    .dataframe tbody tr th {\n",
              "        vertical-align: top;\n",
              "    }\n",
              "\n",
              "    .dataframe thead th {\n",
              "        text-align: right;\n",
              "    }\n",
              "</style>\n",
              "<table border=\"1\" class=\"dataframe\">\n",
              "  <thead>\n",
              "    <tr style=\"text-align: right;\">\n",
              "      <th></th>\n",
              "      <th>Region</th>\n",
              "      <th>Age</th>\n",
              "      <th>Income</th>\n",
              "      <th>Online Shopper</th>\n",
              "    </tr>\n",
              "  </thead>\n",
              "  <tbody>\n",
              "    <tr>\n",
              "      <th>1</th>\n",
              "      <td>India</td>\n",
              "      <td>49</td>\n",
              "      <td>86400</td>\n",
              "      <td>No</td>\n",
              "    </tr>\n",
              "    <tr>\n",
              "      <th>2</th>\n",
              "      <td>Brazil</td>\n",
              "      <td>32</td>\n",
              "      <td>57600</td>\n",
              "      <td>Yes</td>\n",
              "    </tr>\n",
              "    <tr>\n",
              "      <th>3</th>\n",
              "      <td>USA</td>\n",
              "      <td>35</td>\n",
              "      <td>64800</td>\n",
              "      <td>No</td>\n",
              "    </tr>\n",
              "    <tr>\n",
              "      <th>4</th>\n",
              "      <td>Brazil</td>\n",
              "      <td>43</td>\n",
              "      <td>73200</td>\n",
              "      <td>No</td>\n",
              "    </tr>\n",
              "    <tr>\n",
              "      <th>5</th>\n",
              "      <td>USA</td>\n",
              "      <td>45</td>\n",
              "      <td></td>\n",
              "      <td>Yes</td>\n",
              "    </tr>\n",
              "    <tr>\n",
              "      <th>6</th>\n",
              "      <td>India</td>\n",
              "      <td>40</td>\n",
              "      <td>69600</td>\n",
              "      <td>Yes</td>\n",
              "    </tr>\n",
              "    <tr>\n",
              "      <th>7</th>\n",
              "      <td>Brazil</td>\n",
              "      <td></td>\n",
              "      <td>62400</td>\n",
              "      <td>No</td>\n",
              "    </tr>\n",
              "    <tr>\n",
              "      <th>8</th>\n",
              "      <td>India</td>\n",
              "      <td>53</td>\n",
              "      <td>94800</td>\n",
              "      <td>Yes</td>\n",
              "    </tr>\n",
              "    <tr>\n",
              "      <th>9</th>\n",
              "      <td>USA</td>\n",
              "      <td>55</td>\n",
              "      <td>99600</td>\n",
              "      <td>No</td>\n",
              "    </tr>\n",
              "    <tr>\n",
              "      <th>10</th>\n",
              "      <td>India</td>\n",
              "      <td>42</td>\n",
              "      <td>80400</td>\n",
              "      <td>Yes</td>\n",
              "    </tr>\n",
              "  </tbody>\n",
              "</table>\n",
              "</div>"
            ],
            "text/plain": [
              "    Region  Age  Income  Online Shopper\n",
              "1    India   49   86400              No\n",
              "2   Brazil   32   57600             Yes\n",
              "3      USA   35   64800              No\n",
              "4   Brazil   43   73200              No\n",
              "5      USA   45                     Yes\n",
              "6    India   40   69600             Yes\n",
              "7   Brazil        62400              No\n",
              "8    India   53   94800             Yes\n",
              "9      USA   55   99600              No\n",
              "10   India   42   80400             Yes"
            ]
          },
          "metadata": {
            "tags": []
          },
          "execution_count": 29
        }
      ]
    },
    {
      "cell_type": "code",
      "metadata": {
        "colab": {
          "base_uri": "https://localhost:8080/",
          "height": 359
        },
        "id": "nkbySLkovtaO",
        "outputId": "f26ec7c6-0864-4ad7-e7d1-94eab7932552"
      },
      "source": [
        "df_table3"
      ],
      "execution_count": null,
      "outputs": [
        {
          "output_type": "execute_result",
          "data": {
            "text/html": [
              "<div>\n",
              "<style scoped>\n",
              "    .dataframe tbody tr th:only-of-type {\n",
              "        vertical-align: middle;\n",
              "    }\n",
              "\n",
              "    .dataframe tbody tr th {\n",
              "        vertical-align: top;\n",
              "    }\n",
              "\n",
              "    .dataframe thead th {\n",
              "        text-align: right;\n",
              "    }\n",
              "</style>\n",
              "<table border=\"1\" class=\"dataframe\">\n",
              "  <thead>\n",
              "    <tr style=\"text-align: right;\">\n",
              "      <th></th>\n",
              "      <th>Region</th>\n",
              "      <th>Age</th>\n",
              "      <th>Income</th>\n",
              "      <th>Online Shopper</th>\n",
              "    </tr>\n",
              "  </thead>\n",
              "  <tbody>\n",
              "    <tr>\n",
              "      <th>1</th>\n",
              "      <td>[India</td>\n",
              "      <td>49</td>\n",
              "      <td>86400</td>\n",
              "      <td>No]</td>\n",
              "    </tr>\n",
              "    <tr>\n",
              "      <th>2</th>\n",
              "      <td>[Brazil</td>\n",
              "      <td>32</td>\n",
              "      <td>57600</td>\n",
              "      <td>Yes]</td>\n",
              "    </tr>\n",
              "    <tr>\n",
              "      <th>3</th>\n",
              "      <td>[USA</td>\n",
              "      <td>35</td>\n",
              "      <td>64800</td>\n",
              "      <td>No]</td>\n",
              "    </tr>\n",
              "    <tr>\n",
              "      <th>4</th>\n",
              "      <td>[Brazil</td>\n",
              "      <td>43</td>\n",
              "      <td>73200</td>\n",
              "      <td>No]</td>\n",
              "    </tr>\n",
              "    <tr>\n",
              "      <th>5</th>\n",
              "      <td>[USA</td>\n",
              "      <td>45</td>\n",
              "      <td></td>\n",
              "      <td>Yes]</td>\n",
              "    </tr>\n",
              "    <tr>\n",
              "      <th>6</th>\n",
              "      <td>[India</td>\n",
              "      <td>40</td>\n",
              "      <td>69600</td>\n",
              "      <td>Yes]</td>\n",
              "    </tr>\n",
              "    <tr>\n",
              "      <th>7</th>\n",
              "      <td>[Brazil</td>\n",
              "      <td></td>\n",
              "      <td>62400</td>\n",
              "      <td>No]</td>\n",
              "    </tr>\n",
              "    <tr>\n",
              "      <th>8</th>\n",
              "      <td>[India</td>\n",
              "      <td>53</td>\n",
              "      <td>94800</td>\n",
              "      <td>Yes]</td>\n",
              "    </tr>\n",
              "    <tr>\n",
              "      <th>9</th>\n",
              "      <td>[USA</td>\n",
              "      <td>55</td>\n",
              "      <td>99600</td>\n",
              "      <td>No]</td>\n",
              "    </tr>\n",
              "    <tr>\n",
              "      <th>10</th>\n",
              "      <td>[India</td>\n",
              "      <td>42</td>\n",
              "      <td>80400</td>\n",
              "      <td>Yes]</td>\n",
              "    </tr>\n",
              "  </tbody>\n",
              "</table>\n",
              "</div>"
            ],
            "text/plain": [
              "     Region  Age  Income  Online Shopper\n",
              "1    [India   49   86400             No]\n",
              "2   [Brazil   32   57600            Yes]\n",
              "3      [USA   35   64800             No]\n",
              "4   [Brazil   43   73200             No]\n",
              "5      [USA   45                    Yes]\n",
              "6    [India   40   69600            Yes]\n",
              "7   [Brazil        62400             No]\n",
              "8    [India   53   94800            Yes]\n",
              "9      [USA   55   99600             No]\n",
              "10   [India   42   80400            Yes]"
            ]
          },
          "metadata": {
            "tags": []
          },
          "execution_count": 55
        }
      ]
    },
    {
      "cell_type": "markdown",
      "metadata": {
        "id": "kaSg20NTfayR"
      },
      "source": [
        "The list of the various MSc programmes offered by the School of EECS is available at the following URL: http://eecs.qmul.ac.uk/postgraduate/programmes/. Performed web scraping on the table present in the above URL and converted it into a pandas dataframe that would include one row for each programme of study as shown in the webpage. The dataframe includes the following 5 columns: name of postgraduate degree programme (e.g. Advanced Electronic and Electrical Engineering), programme code for part-time study (e.g. H60C), programme code for full-time study (e.g. H60A), URL for part-time study programme details, URL for full-time study programme details. Performed data cleaning to remove unecessary characters when needed. "
      ]
    },
    {
      "cell_type": "code",
      "metadata": {
        "id": "SWbPixrmfbPj"
      },
      "source": [
        "url_1 = \"http://eecs.qmul.ac.uk/postgraduate/programmes/\"\n",
        "html_1 = urlopen(url_1)"
      ],
      "execution_count": null,
      "outputs": []
    },
    {
      "cell_type": "code",
      "metadata": {
        "colab": {
          "base_uri": "https://localhost:8080/"
        },
        "id": "-W9zZFHZho1g",
        "outputId": "6d3c6e01-d243-4e9b-d359-93eab3b9498d"
      },
      "source": [
        "soup_1 = BeautifulSoup(html_1, 'lxml')\n",
        "print(type(soup_1))"
      ],
      "execution_count": null,
      "outputs": [
        {
          "output_type": "stream",
          "text": [
            "<class 'bs4.BeautifulSoup'>\n"
          ],
          "name": "stdout"
        }
      ]
    },
    {
      "cell_type": "code",
      "metadata": {
        "colab": {
          "base_uri": "https://localhost:8080/"
        },
        "id": "kTN0Q1JkkdCt",
        "outputId": "eb3c69dd-1c94-410e-fc72-dc5540bfe261"
      },
      "source": [
        "# Create an empty list where the table header will be stored\n",
        "header_list1 = []\n",
        "\n",
        "# Find the 'th' html tags which denote table header\n",
        "col_labels = soup_1.find_all('th')\n",
        "col_str = str(col_labels)\n",
        "cleantext_header = BeautifulSoup(col_str, \"lxml\").get_text()  # extract the text without HTML tags\n",
        "header_list1.append(cleantext_header) # Add the clean table header to the list\n",
        "\n",
        "print(header_list_1)"
      ],
      "execution_count": null,
      "outputs": [
        {
          "output_type": "stream",
          "text": [
            "['[Postgraduate degree programmes, Part-time(2 year), Full-time(1 year)]']\n"
          ],
          "name": "stdout"
        }
      ]
    },
    {
      "cell_type": "code",
      "metadata": {
        "id": "8aKSKi0Gtn83"
      },
      "source": [
        "# finding all the rows with the tag-\"tr\"\n",
        "rows = soup_1.find_all('tr') "
      ],
      "execution_count": null,
      "outputs": []
    },
    {
      "cell_type": "code",
      "metadata": {
        "colab": {
          "base_uri": "https://localhost:8080/"
        },
        "id": "hN-N0uLVkfXx",
        "outputId": "0c9f3432-a607-4f10-b3b3-51c728250318"
      },
      "source": [
        "# Create an empty list where the table will be stored\n",
        "table_list = []\n",
        "\n",
        "# For every row in the table, find each cell element and add it to the list\n",
        "for row in rows:\n",
        "    row_td = row.find_all('td')\n",
        "    row_cells = str(row_td)\n",
        "    row_cleantext = BeautifulSoup(row_cells, \"lxml\").get_text()  # extract the text without HTML tags\n",
        "    \n",
        "    for td in row.find_all('td'):\n",
        "      if td.find('a') is not None:\n",
        "        aurl=td.find('a').get('href')\n",
        "        row_cleantext=row_cleantext + \",\" + aurl\n",
        "      else:\n",
        "        empty=''\n",
        "        row_cleantext=row_cleantext + \",\" + empty\n",
        "    \n",
        "    table_list.append(row_cleantext)  # Add the clean table row to the list\n",
        "    \n",
        "print(table_list)"
      ],
      "execution_count": null,
      "outputs": [
        {
          "output_type": "stream",
          "text": [
            "['[]', '[Advanced Electronic and Electrical Engineering, H60C, H60A],,https://www.qmul.ac.uk/postgraduate/taught/coursefinder/courses/advanced-electronic-and-electrical-engineering-msc/,https://www.qmul.ac.uk/postgraduate/taught/coursefinder/courses/advanced-electronic-and-electrical-engineering-msc/', '[Artificial Intelligence, I4U2\\xa0, I4U1\\xa0],,https://www.qmul.ac.uk/postgraduate/taught/coursefinder/courses/artificial-intelligence-msc/,https://www.qmul.ac.uk/postgraduate/taught/coursefinder/courses/artificial-intelligence-msc/', '[Big Data Science, H6J6, H6J7],,https://www.qmul.ac.uk/postgraduate/taught/coursefinder/courses/big-data-science-msc/,https://www.qmul.ac.uk/postgraduate/taught/coursefinder/courses/big-data-science-msc/', '[Computer Games, \\xa0, I4U4],,,https://www.qmul.ac.uk/postgraduate/taught/coursefinder/courses/computer-games-msc/', '[Computer Science, G4U2, G4U1],,https://www.qmul.ac.uk/postgraduate/taught/coursefinder/courses/computer-science-msc/,https://www.qmul.ac.uk/postgraduate/taught/coursefinder/courses/computer-science-msc/', '[Computer Science by Research, G4Q2, G4Q1],,https://www.qmul.ac.uk/postgraduate/taught/coursefinder/courses/computer-science-by-research-msc/,https://www.qmul.ac.uk/postgraduate/taught/coursefinder/courses/computer-science-by-research-msc/', '[Computing and Information Systems, G5U6, G5U5],,https://www.qmul.ac.uk/postgraduate/taught/coursefinder/courses/computing-and-information-systems-msc/,https://www.qmul.ac.uk/postgraduate/taught/coursefinder/courses/computing-and-information-systems-msc/', '[Data Science and Artificial Intelligence by Conversion, \\xa0, I4U5\\xa0],,,https://www.qmul.ac.uk/postgraduate/taught/coursefinder/courses/data-science-and-artificial-intelligence-msc/', '[Electronic Engineering by Research, H6T6, H6T5],,https://www.qmul.ac.uk/postgraduate/taught/coursefinder/courses/electronic-engineering-by-research-msc/,https://www.qmul.ac.uk/postgraduate/taught/coursefinder/courses/electronic-engineering-by-research-msc/', '[Internet of Things (Data), I1T2, I1T0],,https://www.qmul.ac.uk/postgraduate/taught/coursefinder/courses/internet-of-things-data-msc/,https://www.qmul.ac.uk/postgraduate/taught/coursefinder/courses/internet-of-things-data-msc/', '[Machine Learning for Visual Data Analytics, H6JZ, H6JE],,https://www.qmul.ac.uk/postgraduate/taught/coursefinder/courses/machine-learning-for-visual-data-analytics-msc/,https://www.qmul.ac.uk/postgraduate/taught/coursefinder/courses/machine-learning-for-visual-data-analytics-msc/', '[Media and Arts Technology by Research, \\xa0, G4Q3],,,https://www.qmul.ac.uk/postgraduate/taught/coursefinder/courses/media-and-arts-technology-by-research-msc/', '[Sound and Music Computing\\xa0, H6T4, H6T8],,https://www.qmul.ac.uk/postgraduate/taught/coursefinder/courses/sound-and-music-computing-msc/,https://www.qmul.ac.uk/postgraduate/taught/coursefinder/courses/sound-and-music-computing-msc/', '[Telecommunication and Wireless Systems, H6JD, H6JA],,https://www.qmul.ac.uk/postgraduate/taught/coursefinder/courses/telecommunication-and-wireless-systems-msc/,https://www.qmul.ac.uk/postgraduate/taught/coursefinder/courses/telecommunication-and-wireless-systems-msc/', '[Digital and Technology Solutions (Apprenticeship), I4DA, \\xa0],,https://www.qmul.ac.uk/postgraduate/taught/coursefinder/courses/digital-and-technology-solutions-specialist-msc/,']\n"
          ],
          "name": "stdout"
        }
      ]
    },
    {
      "cell_type": "code",
      "metadata": {
        "colab": {
          "base_uri": "https://localhost:8080/",
          "height": 80
        },
        "id": "eKRDU7GakhYC",
        "outputId": "07a16599-b6dc-47c6-fe26-34fca78f05ba"
      },
      "source": [
        "df_header = pd.DataFrame(header_list1)\n",
        "#split the \"0\" column into multiple columns at the comma position using str.split method\n",
        "df_header2 = df_header[0].str.split(',', expand=True)\n",
        "df_header2.head()"
      ],
      "execution_count": null,
      "outputs": [
        {
          "output_type": "execute_result",
          "data": {
            "text/html": [
              "<div>\n",
              "<style scoped>\n",
              "    .dataframe tbody tr th:only-of-type {\n",
              "        vertical-align: middle;\n",
              "    }\n",
              "\n",
              "    .dataframe tbody tr th {\n",
              "        vertical-align: top;\n",
              "    }\n",
              "\n",
              "    .dataframe thead th {\n",
              "        text-align: right;\n",
              "    }\n",
              "</style>\n",
              "<table border=\"1\" class=\"dataframe\">\n",
              "  <thead>\n",
              "    <tr style=\"text-align: right;\">\n",
              "      <th></th>\n",
              "      <th>0</th>\n",
              "      <th>1</th>\n",
              "      <th>2</th>\n",
              "    </tr>\n",
              "  </thead>\n",
              "  <tbody>\n",
              "    <tr>\n",
              "      <th>0</th>\n",
              "      <td>[Postgraduate degree programmes</td>\n",
              "      <td>Part-time(2 year)</td>\n",
              "      <td>Full-time(1 year)]</td>\n",
              "    </tr>\n",
              "  </tbody>\n",
              "</table>\n",
              "</div>"
            ],
            "text/plain": [
              "                                 0                   1                    2\n",
              "0  [Postgraduate degree programmes   Part-time(2 year)   Full-time(1 year)]"
            ]
          },
          "metadata": {
            "tags": []
          },
          "execution_count": 64
        }
      ]
    },
    {
      "cell_type": "code",
      "metadata": {
        "id": "cXsd0m-kkoTV",
        "colab": {
          "base_uri": "https://localhost:8080/",
          "height": 359
        },
        "outputId": "99734215-7775-4a59-b66d-59f928dcd105"
      },
      "source": [
        "# Remove uneccesary characters\n",
        "df_table2[0] = df_table2[0].str.strip('[')\n",
        "df_table2[2] = df_table2[2].str.strip(']')\n",
        "\n",
        "df_table = pd.DataFrame(table_list)\n",
        "#split the \"0\" column into multiple columns at the comma position using str.split method\n",
        "df_table2 = df_table[0].str.split(',', expand=True)\n",
        "\n",
        "#Removing the first row of the table which contains NaN values\n",
        "df_table2=df_table2.iloc[1:]\n",
        "df_table2 = df_table2.drop(df_table2.columns[3], axis=1)\n"
      ],
      "execution_count": null,
      "outputs": [
        {
          "output_type": "display_data",
          "data": {
            "text/html": [
              "<div>\n",
              "<style scoped>\n",
              "    .dataframe tbody tr th:only-of-type {\n",
              "        vertical-align: middle;\n",
              "    }\n",
              "\n",
              "    .dataframe tbody tr th {\n",
              "        vertical-align: top;\n",
              "    }\n",
              "\n",
              "    .dataframe thead th {\n",
              "        text-align: right;\n",
              "    }\n",
              "</style>\n",
              "<table border=\"1\" class=\"dataframe\">\n",
              "  <thead>\n",
              "    <tr style=\"text-align: right;\">\n",
              "      <th></th>\n",
              "      <th>0</th>\n",
              "      <th>1</th>\n",
              "      <th>2</th>\n",
              "    </tr>\n",
              "  </thead>\n",
              "  <tbody>\n",
              "    <tr>\n",
              "      <th>1</th>\n",
              "      <td>[India</td>\n",
              "      <td>49</td>\n",
              "      <td>86400</td>\n",
              "    </tr>\n",
              "    <tr>\n",
              "      <th>2</th>\n",
              "      <td>[Brazil</td>\n",
              "      <td>32</td>\n",
              "      <td>57600</td>\n",
              "    </tr>\n",
              "    <tr>\n",
              "      <th>3</th>\n",
              "      <td>[USA</td>\n",
              "      <td>35</td>\n",
              "      <td>64800</td>\n",
              "    </tr>\n",
              "    <tr>\n",
              "      <th>4</th>\n",
              "      <td>[Brazil</td>\n",
              "      <td>43</td>\n",
              "      <td>73200</td>\n",
              "    </tr>\n",
              "    <tr>\n",
              "      <th>5</th>\n",
              "      <td>[USA</td>\n",
              "      <td>45</td>\n",
              "      <td></td>\n",
              "    </tr>\n",
              "    <tr>\n",
              "      <th>6</th>\n",
              "      <td>[India</td>\n",
              "      <td>40</td>\n",
              "      <td>69600</td>\n",
              "    </tr>\n",
              "    <tr>\n",
              "      <th>7</th>\n",
              "      <td>[Brazil</td>\n",
              "      <td></td>\n",
              "      <td>62400</td>\n",
              "    </tr>\n",
              "    <tr>\n",
              "      <th>8</th>\n",
              "      <td>[India</td>\n",
              "      <td>53</td>\n",
              "      <td>94800</td>\n",
              "    </tr>\n",
              "    <tr>\n",
              "      <th>9</th>\n",
              "      <td>[USA</td>\n",
              "      <td>55</td>\n",
              "      <td>99600</td>\n",
              "    </tr>\n",
              "    <tr>\n",
              "      <th>10</th>\n",
              "      <td>[India</td>\n",
              "      <td>42</td>\n",
              "      <td>80400</td>\n",
              "    </tr>\n",
              "  </tbody>\n",
              "</table>\n",
              "</div>"
            ],
            "text/plain": [
              "          0    1       2\n",
              "1    [India   49   86400\n",
              "2   [Brazil   32   57600\n",
              "3      [USA   35   64800\n",
              "4   [Brazil   43   73200\n",
              "5      [USA   45        \n",
              "6    [India   40   69600\n",
              "7   [Brazil        62400\n",
              "8    [India   53   94800\n",
              "9      [USA   55   99600\n",
              "10   [India   42   80400"
            ]
          },
          "metadata": {
            "tags": []
          }
        }
      ]
    },
    {
      "cell_type": "code",
      "metadata": {
        "colab": {
          "base_uri": "https://localhost:8080/",
          "height": 514
        },
        "id": "6Iai0AZYkkve",
        "outputId": "ec48d08e-7463-409f-af7b-9f7831b25c9c"
      },
      "source": [
        "# We concatenate the two dataframes\n",
        "frames = [df_header2, df_table2]\n",
        "df = pd.concat(frames)\n",
        "#Renaming the columns\n",
        "df_head=df.rename(columns={df.columns[0]:df.iloc[0][0],\n",
        "                           df.columns[1]:df.iloc[0][1],\n",
        "                           df.columns[2]:df.iloc[0][2],\n",
        "                           df.columns[3]:\"Part-time study programme URL\",\n",
        "                           df.columns[4]:\"Full-time study programme URL\"})\n",
        "\n",
        " # Removing the duplicate header\n",
        "df3 = df_head.drop(df_head.index[0])\n",
        "display(df3)"
      ],
      "execution_count": null,
      "outputs": [
        {
          "output_type": "display_data",
          "data": {
            "text/html": [
              "<div>\n",
              "<style scoped>\n",
              "    .dataframe tbody tr th:only-of-type {\n",
              "        vertical-align: middle;\n",
              "    }\n",
              "\n",
              "    .dataframe tbody tr th {\n",
              "        vertical-align: top;\n",
              "    }\n",
              "\n",
              "    .dataframe thead th {\n",
              "        text-align: right;\n",
              "    }\n",
              "</style>\n",
              "<table border=\"1\" class=\"dataframe\">\n",
              "  <thead>\n",
              "    <tr style=\"text-align: right;\">\n",
              "      <th></th>\n",
              "      <th>Postgraduate degree programmes</th>\n",
              "      <th>Part-time(2 year)</th>\n",
              "      <th>Full-time(1 year)</th>\n",
              "      <th>Part-time study programme URL</th>\n",
              "      <th>Full-time study programme URL</th>\n",
              "    </tr>\n",
              "  </thead>\n",
              "  <tbody>\n",
              "    <tr>\n",
              "      <th>1</th>\n",
              "      <td>Advanced Electronic and Electrical Engineering</td>\n",
              "      <td>H60C</td>\n",
              "      <td>H60A</td>\n",
              "      <td>https://www.qmul.ac.uk/postgraduate/taught/cou...</td>\n",
              "      <td>https://www.qmul.ac.uk/postgraduate/taught/cou...</td>\n",
              "    </tr>\n",
              "    <tr>\n",
              "      <th>2</th>\n",
              "      <td>Artificial Intelligence</td>\n",
              "      <td>I4U2</td>\n",
              "      <td>I4U1</td>\n",
              "      <td>https://www.qmul.ac.uk/postgraduate/taught/cou...</td>\n",
              "      <td>https://www.qmul.ac.uk/postgraduate/taught/cou...</td>\n",
              "    </tr>\n",
              "    <tr>\n",
              "      <th>3</th>\n",
              "      <td>Big Data Science</td>\n",
              "      <td>H6J6</td>\n",
              "      <td>H6J7</td>\n",
              "      <td>https://www.qmul.ac.uk/postgraduate/taught/cou...</td>\n",
              "      <td>https://www.qmul.ac.uk/postgraduate/taught/cou...</td>\n",
              "    </tr>\n",
              "    <tr>\n",
              "      <th>4</th>\n",
              "      <td>Computer Games</td>\n",
              "      <td></td>\n",
              "      <td>I4U4</td>\n",
              "      <td></td>\n",
              "      <td>https://www.qmul.ac.uk/postgraduate/taught/cou...</td>\n",
              "    </tr>\n",
              "    <tr>\n",
              "      <th>5</th>\n",
              "      <td>Computer Science</td>\n",
              "      <td>G4U2</td>\n",
              "      <td>G4U1</td>\n",
              "      <td>https://www.qmul.ac.uk/postgraduate/taught/cou...</td>\n",
              "      <td>https://www.qmul.ac.uk/postgraduate/taught/cou...</td>\n",
              "    </tr>\n",
              "    <tr>\n",
              "      <th>6</th>\n",
              "      <td>Computer Science by Research</td>\n",
              "      <td>G4Q2</td>\n",
              "      <td>G4Q1</td>\n",
              "      <td>https://www.qmul.ac.uk/postgraduate/taught/cou...</td>\n",
              "      <td>https://www.qmul.ac.uk/postgraduate/taught/cou...</td>\n",
              "    </tr>\n",
              "    <tr>\n",
              "      <th>7</th>\n",
              "      <td>Computing and Information Systems</td>\n",
              "      <td>G5U6</td>\n",
              "      <td>G5U5</td>\n",
              "      <td>https://www.qmul.ac.uk/postgraduate/taught/cou...</td>\n",
              "      <td>https://www.qmul.ac.uk/postgraduate/taught/cou...</td>\n",
              "    </tr>\n",
              "    <tr>\n",
              "      <th>8</th>\n",
              "      <td>Data Science and Artificial Intelligence by Co...</td>\n",
              "      <td></td>\n",
              "      <td>I4U5</td>\n",
              "      <td></td>\n",
              "      <td>https://www.qmul.ac.uk/postgraduate/taught/cou...</td>\n",
              "    </tr>\n",
              "    <tr>\n",
              "      <th>9</th>\n",
              "      <td>Electronic Engineering by Research</td>\n",
              "      <td>H6T6</td>\n",
              "      <td>H6T5</td>\n",
              "      <td>https://www.qmul.ac.uk/postgraduate/taught/cou...</td>\n",
              "      <td>https://www.qmul.ac.uk/postgraduate/taught/cou...</td>\n",
              "    </tr>\n",
              "    <tr>\n",
              "      <th>10</th>\n",
              "      <td>Internet of Things (Data)</td>\n",
              "      <td>I1T2</td>\n",
              "      <td>I1T0</td>\n",
              "      <td>https://www.qmul.ac.uk/postgraduate/taught/cou...</td>\n",
              "      <td>https://www.qmul.ac.uk/postgraduate/taught/cou...</td>\n",
              "    </tr>\n",
              "    <tr>\n",
              "      <th>11</th>\n",
              "      <td>Machine Learning for Visual Data Analytics</td>\n",
              "      <td>H6JZ</td>\n",
              "      <td>H6JE</td>\n",
              "      <td>https://www.qmul.ac.uk/postgraduate/taught/cou...</td>\n",
              "      <td>https://www.qmul.ac.uk/postgraduate/taught/cou...</td>\n",
              "    </tr>\n",
              "    <tr>\n",
              "      <th>12</th>\n",
              "      <td>Media and Arts Technology by Research</td>\n",
              "      <td></td>\n",
              "      <td>G4Q3</td>\n",
              "      <td></td>\n",
              "      <td>https://www.qmul.ac.uk/postgraduate/taught/cou...</td>\n",
              "    </tr>\n",
              "    <tr>\n",
              "      <th>13</th>\n",
              "      <td>Sound and Music Computing</td>\n",
              "      <td>H6T4</td>\n",
              "      <td>H6T8</td>\n",
              "      <td>https://www.qmul.ac.uk/postgraduate/taught/cou...</td>\n",
              "      <td>https://www.qmul.ac.uk/postgraduate/taught/cou...</td>\n",
              "    </tr>\n",
              "    <tr>\n",
              "      <th>14</th>\n",
              "      <td>Telecommunication and Wireless Systems</td>\n",
              "      <td>H6JD</td>\n",
              "      <td>H6JA</td>\n",
              "      <td>https://www.qmul.ac.uk/postgraduate/taught/cou...</td>\n",
              "      <td>https://www.qmul.ac.uk/postgraduate/taught/cou...</td>\n",
              "    </tr>\n",
              "    <tr>\n",
              "      <th>15</th>\n",
              "      <td>Digital and Technology Solutions (Apprenticeship)</td>\n",
              "      <td>I4DA</td>\n",
              "      <td></td>\n",
              "      <td>https://www.qmul.ac.uk/postgraduate/taught/cou...</td>\n",
              "      <td></td>\n",
              "    </tr>\n",
              "  </tbody>\n",
              "</table>\n",
              "</div>"
            ],
            "text/plain": [
              "                       Postgraduate degree programmes  ...                      Full-time study programme URL\n",
              "1      Advanced Electronic and Electrical Engineering  ...  https://www.qmul.ac.uk/postgraduate/taught/cou...\n",
              "2                             Artificial Intelligence  ...  https://www.qmul.ac.uk/postgraduate/taught/cou...\n",
              "3                                    Big Data Science  ...  https://www.qmul.ac.uk/postgraduate/taught/cou...\n",
              "4                                      Computer Games  ...  https://www.qmul.ac.uk/postgraduate/taught/cou...\n",
              "5                                    Computer Science  ...  https://www.qmul.ac.uk/postgraduate/taught/cou...\n",
              "6                        Computer Science by Research  ...  https://www.qmul.ac.uk/postgraduate/taught/cou...\n",
              "7                   Computing and Information Systems  ...  https://www.qmul.ac.uk/postgraduate/taught/cou...\n",
              "8   Data Science and Artificial Intelligence by Co...  ...  https://www.qmul.ac.uk/postgraduate/taught/cou...\n",
              "9                  Electronic Engineering by Research  ...  https://www.qmul.ac.uk/postgraduate/taught/cou...\n",
              "10                          Internet of Things (Data)  ...  https://www.qmul.ac.uk/postgraduate/taught/cou...\n",
              "11         Machine Learning for Visual Data Analytics  ...  https://www.qmul.ac.uk/postgraduate/taught/cou...\n",
              "12              Media and Arts Technology by Research  ...  https://www.qmul.ac.uk/postgraduate/taught/cou...\n",
              "13                         Sound and Music Computing   ...  https://www.qmul.ac.uk/postgraduate/taught/cou...\n",
              "14             Telecommunication and Wireless Systems  ...  https://www.qmul.ac.uk/postgraduate/taught/cou...\n",
              "15  Digital and Technology Solutions (Apprenticeship)  ...                                                   \n",
              "\n",
              "[15 rows x 5 columns]"
            ]
          },
          "metadata": {
            "tags": []
          }
        }
      ]
    },
    {
      "cell_type": "code",
      "metadata": {
        "id": "QGcdoV6Tnq_m"
      },
      "source": [
        ""
      ],
      "execution_count": null,
      "outputs": []
    }
  ]
}